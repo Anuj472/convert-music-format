{
  "nbformat": 4,
  "nbformat_minor": 0,
  "metadata": {
    "colab": {
      "provenance": []
    },
    "kernelspec": {
      "name": "python3",
      "display_name": "Python 3"
    },
    "language_info": {
      "name": "python"
    }
  },
  "cells": [
    {
      "cell_type": "code",
      "execution_count": 2,
      "metadata": {
        "colab": {
          "base_uri": "https://localhost:8080/"
        },
        "id": "jcL5VSMMSPW_",
        "outputId": "bd24e6e4-5087-45c9-eb94-8b30e8fcd873"
      },
      "outputs": [
        {
          "output_type": "stream",
          "name": "stdout",
          "text": [
            "Looking in indexes: https://pypi.org/simple, https://us-python.pkg.dev/colab-wheels/public/simple/\n",
            "Collecting pydub\n",
            "  Downloading pydub-0.25.1-py2.py3-none-any.whl (32 kB)\n",
            "Installing collected packages: pydub\n",
            "Successfully installed pydub-0.25.1\n"
          ]
        }
      ],
      "source": [
        "!pip install pydub"
      ]
    },
    {
      "cell_type": "markdown",
      "source": [
        " For converting in a single format"
      ],
      "metadata": {
        "id": "svYDFH81Tt5h"
      }
    },
    {
      "cell_type": "code",
      "source": [
        "from pydub import AudioSegment\n",
        "\n",
        "# set the file paths for the input and output files\n",
        "input_file = \"song.mp3\"\n",
        "output_file = \"output.wav\"\n",
        "\n",
        "# use Pydub to read the input MP3 file\n",
        "audio = AudioSegment.from_mp3(input_file)\n",
        "\n",
        "# convert the audio to WAV format\n",
        "audio.export(output_file, format=\"wav\")\n"
      ],
      "metadata": {
        "colab": {
          "base_uri": "https://localhost:8080/"
        },
        "id": "9TKjHdcqSQ2g",
        "outputId": "bf3a2af7-774e-4306-cb99-e5e5e762900d"
      },
      "execution_count": 3,
      "outputs": [
        {
          "output_type": "execute_result",
          "data": {
            "text/plain": [
              "<_io.BufferedRandom name='output.wav'>"
            ]
          },
          "metadata": {},
          "execution_count": 3
        }
      ]
    },
    {
      "cell_type": "markdown",
      "source": [
        "fro converting other various fromats"
      ],
      "metadata": {
        "id": "C8X7JSpWT3rw"
      }
    },
    {
      "cell_type": "code",
      "source": [
        "output_formats = {\n",
        "    \"wav\": \"output.wav\",\n",
        "    \"mp4\": \"output.mp4\",\n",
        "    \"ogg\": \"output.ogg\",\n",
        "    \"flac\": \"output.flac\"\n",
        "}\n",
        "\n",
        "# use Pydub to read the input MP3 file\n",
        "audio = AudioSegment.from_mp3(input_file)\n",
        "\n",
        "# convert the audio to each of the desired formats\n",
        "for format, output_file in output_formats.items():\n",
        "    audio.export(output_file, format=format)"
      ],
      "metadata": {
        "id": "aNoVkJhQTNem"
      },
      "execution_count": 6,
      "outputs": []
    }
  ]
}